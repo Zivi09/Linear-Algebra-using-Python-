{
  "nbformat": 4,
  "nbformat_minor": 0,
  "metadata": {
    "colab": {
      "provenance": []
    },
    "kernelspec": {
      "name": "python3",
      "display_name": "Python 3"
    },
    "language_info": {
      "name": "python"
    }
  },
  "cells": [
    {
      "cell_type": "markdown",
      "source": [
        "Write a program to do the following:\n",
        "1. Enter a vector u as a list\n",
        "2. Enter another vector v as a list\n",
        "3. Find the vector au+bv for different values of a and b\n",
        "4. Find the dot product of u and v"
      ],
      "metadata": {
        "id": "po6lN22Wy_tX"
      }
    },
    {
      "cell_type": "markdown",
      "source": [
        "Description:\n",
        "1. Define vector.\n",
        " quantity having direction as well as magnitude, especially as determining the position of one point in space relative to another.\n",
        "\n",
        "2. Explain numpy.\n",
        "NumPy is a Python library used for working with arrays.\n",
        "\n",
        "It also has functions for working in domain of linear algebra, fourier transform, and matrices.\n",
        "\n",
        "NumPy was created in 2005 by Travis Oliphant. It is an open source project and you can use it freely.\n",
        "\n",
        "NumPy stands for Numerical Python.\n",
        "\n",
        "\n",
        "3. What is dot product?\n",
        "Algebraically, the dot product is defined as the sum of the products of the corresponding entries of the two sequences of numbers\n"
      ],
      "metadata": {
        "id": "JyJzfUoCzR0s"
      }
    },
    {
      "cell_type": "code",
      "execution_count": null,
      "metadata": {
        "colab": {
          "base_uri": "https://localhost:8080/"
        },
        "id": "CrOSdZ3zy0fq",
        "outputId": "13bf3310-776b-402c-8cf2-2596fe65fb1a"
      },
      "outputs": [
        {
          "output_type": "stream",
          "name": "stdout",
          "text": [
            "u vector =  [3 4 5]\n",
            "v vector =  [1 2 7]\n",
            "Enter values for a and b := \n",
            "45\n",
            "59\n",
            "au + bv =  [194 298 638]\n",
            "Dot Product of u and v =  46\n"
          ]
        }
      ],
      "source": [
        "import numpy as np\n",
        "u=np.array((3,4,5))\n",
        "v=np.array((1,2,7))\n",
        "print(\"u vector = \",u)\n",
        "print(\"v vector = \",v)\n",
        "print(\"Enter values for a and b := \")\n",
        "a=int(input())\n",
        "b=int(input())\n",
        "d=(a*u)+(b*v)\n",
        "p=np.dot(u,v)\n",
        "print(\"au + bv = \",d)\n",
        "print(\"Dot Product of u and v = \",p)"
      ]
    },
    {
      "cell_type": "code",
      "source": [
        "def enter_vector(prompt):\n",
        "    vector = input(prompt)\n",
        "    return list(map(float, vector.split()))\n",
        "\n",
        "def vector_addition(a, u, b, v):\n",
        "    return [a * ui + b * vi for ui, vi in zip(u, v)]\n",
        "\n",
        "def dot_product(u, v):\n",
        "    return sum(ui * vi for ui, vi in zip(u, v))\n",
        "\n",
        "def main():\n",
        "    u = enter_vector(\"Enter the first vector u (elements separated by space): \")\n",
        "    v = enter_vector(\"Enter the second vector v (elements separated by space): \")\n",
        "\n",
        "    a = float(input(\"Enter the value of a: \"))\n",
        "    b = float(input(\"Enter the value of b: \"))\n",
        "\n",
        "    result_vector = vector_addition(a, u, b, v)\n",
        "    print(f\"The vector {a}u + {b}v is: {result_vector}\")\n",
        "\n",
        "    dot_prod = dot_product(u, v)\n",
        "    print(f\"The dot product of u and v is: {dot_prod}\")\n",
        "\n",
        "if __name__ == \"__main__\":\n",
        "    main()\n"
      ],
      "metadata": {
        "colab": {
          "base_uri": "https://localhost:8080/"
        },
        "id": "WERS_RqwZzJV",
        "outputId": "57e7bb05-641c-4d57-d0b2-8da2bc332cc7"
      },
      "execution_count": 1,
      "outputs": [
        {
          "output_type": "stream",
          "name": "stdout",
          "text": [
            "Enter the first vector u (elements separated by space): 96 35\n",
            "Enter the second vector v (elements separated by space): 78 23\n",
            "Enter the value of a: 1\n",
            "Enter the value of b: 3\n",
            "The vector 1.0u + 3.0v is: [330.0, 104.0]\n",
            "The dot product of u and v is: 8293.0\n"
          ]
        }
      ]
    },
    {
      "cell_type": "markdown",
      "source": [
        "# Explanation:\n",
        "\n",
        "enter_vector(prompt): This function takes user input for a vector and converts it into a list of floats.\n",
        "\n",
        "vector_addition(a, u, b, v): This function computes the vector au + bv by performing element-wise addition after scaling u and v by a and b, respectively.\n",
        "\n",
        "dot_product(u, v): This function computes the dot product of two vectors u and v.\n",
        "\n",
        "main(): This is the main function that:\n",
        "\n",
        "* Prompts the user to enter vectors u and v.\n",
        "* Prompts the user to enter the scalar values a and b.\n",
        "* Computes the vector au + bv and prints it.\n",
        "* Computes and prints the dot product of u and v.\n",
        "\n",
        "\n"
      ],
      "metadata": {
        "id": "QPBaFGCpaOqR"
      }
    }
  ]
}